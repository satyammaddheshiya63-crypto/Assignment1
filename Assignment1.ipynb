{
  "nbformat": 4,
  "nbformat_minor": 0,
  "metadata": {
    "colab": {
      "provenance": []
    },
    "kernelspec": {
      "name": "python3",
      "display_name": "Python 3"
    },
    "language_info": {
      "name": "python"
    }
  },
  "cells": [
    {
      "cell_type": "markdown",
      "source": [
        "# Python Basic"
      ],
      "metadata": {
        "id": "18jcEQjp8OsB"
      }
    },
    {
      "cell_type": "markdown",
      "source": [
        "1. What is Python, and why is it popular?\n",
        "   :- Python is a high-level, interpreted programming language known for      its simplicity and readability.\n",
        "\n",
        "   Python is popular because of its easy-to-learn syntax, vast library ecosystem, wide applicability, and a strong community. Whether you are building web apps, data science models, or automation scripts, Python offers a flexible, efficient, and enjoyable experience for developers.\n",
        "\n",
        "2. What is an interpreter in Python?\n",
        "   :- The Python interpreter makes it easy to write and execute code quickly, with the tradeoff being potentially slower performance compared to compiled languages. It is a key part of Python’s ease of use and flexibility.\n",
        "\n",
        "3. What are pre-defined keywords in Python?\n",
        "   :- Predefined keywords are essential for defining the logic, flow, and behavior of your Python program. They form the core building blocks of Python syntax and are a fundamental part of the language’s design.\n",
        "   Their are 35 predefined keywords in Python.\n",
        "   Example:- False, True, as, assert, while, for, none, with etc.\n",
        "\n",
        "4. Can keywords be used as variable names?\n",
        "   :- No\n",
        "\n",
        "5. What is mutability in Python?\n",
        "   :- Mutable objects can be chaged after creation. we can also other name like changeable/updateable.\n",
        "   Example: list, dict, set, bytearrary, dfs etc.\n",
        "\n",
        "6. Why are lists mutable, but tuples are immutable?\n",
        "   :- Lists are mutable because:\n",
        "         1. Designed for dynamic data.\n",
        "         2. Flexibility is needed.\n",
        "         3. Implementation allows it.\n",
        "\n",
        "      Tuples are immutable because:\n",
        "         1. Designed for fixed data.\n",
        "         2. Immutability = Safety.\n",
        "         3. Faster performance.\n",
        "         4. Functional programming style.\n",
        "\n",
        "7. What is the difference between “==” and “is” operators in Python?\n",
        "   :- == (Equality operator)\n",
        "             The == operator checks if the values of two object are equal.\n",
        "             == compares the contents of the object.\n",
        "      \n",
        "      is (identity operator)\n",
        "             The is operator checks if the two object refer to the same object in memory.\n",
        "             it compares the memory addresses.\n",
        "\n",
        "8. What are logical operators in Python?\n",
        "   :- Logical operators are used to combine or modify Boolean (True/False) values. They are essential for creating complex conditional statements.\n",
        "   Their are 3 types of logical operators.\n",
        "        and\n",
        "        or\n",
        "        not\n",
        "\n",
        "9. What is type casting in Python?\n",
        "   :- Type casting (or type conversion) is the process of converting one data type to another.\n",
        "   Their are tow types of type casting.\n",
        "        1. implicit type casting or Automatic type casting\n",
        "        2. Emplicit type casting or Manual type casting\n",
        "\n",
        "10. What is the difference between implicit and explicit type casting?\n",
        "    :-     1. Implicit type casting\n",
        "                        >> Automatic conversion done by Python without programmer intervention.\n",
        "                        >> Happens when Python converts a lower data type to a higher one to avoid data loss.\n",
        "                        Example: x = 3\n",
        "                                y = 5.8\n",
        "                                print(x + y) # x is automatically converted to float.\n",
        "                                # output will be 8.8\n",
        "\n",
        "            2. Explicit Type Casting\n",
        "                         >> Manual conversion done by the programmer using built-in functions.\n",
        "                         >> Required when Python doesn't automatically convert types, or when you need to force a conversion.\n",
        "                         Example:  x = \"10\"\n",
        "                                 y = int(x) # manually convert string to int\n",
        "                                print(y + 5)  \n",
        "                                # Output: 15\n",
        "\n",
        "11. What is the purpose of conditional statements in Python?\n",
        "    >> Conditional statements allow your Python program to make decisions and control the flow of execution based on certain conditions.\n",
        "\n",
        "12. How does the elif statement work?\n",
        "    >> The elif (short for \"else if\") statement is used in Python to check multiple conditions in sequence. It allows you to test more than one condition after an initial if statement. If the condition in the if statement is False, Python will check the conditions in the elif blocks in order. If one of those conditions evaluates to True, the corresponding block of code will execute.\n",
        "    > Example: x = 10\n",
        "               if x > 15:\n",
        "                    print(\"x is greater than 15\")\n",
        "               elif x == 10:\n",
        "                    print(\"x is exactly 10\")\n",
        "               else:\n",
        "                    print(\"x is less than 10\")\n",
        "                    # output will be = x is exactly 10\n",
        "\n",
        "13. What is the difference between for and while loops?\n",
        "    >> for Loop:-\n",
        "                Used When You Know How Many Times to Loop.\n",
        "                Iterates over a sequence (like a list, string, tuple, or range).\n",
        "                Common when you have a fixed number of iterations or you're looping through items.\n",
        "    >> while Loop:-\n",
        "                 Used When You Don't Know How Many Times to Loop.\n",
        "                 Continues to run as long as a condition is True.\n",
        "                 Useful for open-ended or conditional loops, like user input or waiting for a condition to be met.\n",
        "\n",
        "14.  Describe a scenario where a while loop is more suitable than a for loop?\n",
        "     >> while loops are great for input validation, waiting for a signal, or polling a status — any case where the number of repetitions is not fixed.\n",
        "\n",
        "     Example: Imagine you're writing a program that asks the user to enter a password. The program should keep asking until the user enters the correct password. You don't know how many attempts the user will take — this makes while the perfect choice.\n",
        "        \n",
        "         correct_password = \"python123\"\n",
        "       \n",
        "         user_input = \"\"\n",
        "\n",
        "         while user_input != correct_password:\n",
        "             user_input = input(\"Enter password: \")\n",
        "\n",
        "         print(\"Access granted!\")\n",
        "\n",
        "\n",
        "\n",
        "    \n"
      ],
      "metadata": {
        "id": "MePvUb3H8yXa"
      }
    },
    {
      "cell_type": "code",
      "execution_count": 1,
      "metadata": {
        "id": "DBQOaTfz7F9V",
        "colab": {
          "base_uri": "https://localhost:8080/"
        },
        "outputId": "ab915b6f-394a-47f4-b437-9966e9322233"
      },
      "outputs": [
        {
          "output_type": "stream",
          "name": "stdout",
          "text": [
            "Hello World\n"
          ]
        }
      ],
      "source": [
        "# Question:-\n",
        "# 1. Write a Python program to print \"Hello, World!\"\n",
        "\n",
        "print(\"Hello World\")"
      ]
    },
    {
      "cell_type": "code",
      "source": [
        "# 2. Write a Python program that displays your name and age.\n",
        "\n",
        "name = \"John Doe\"\n",
        "age = 25\n",
        "\n",
        "print(\"My name is\", name)\n",
        "print(\"I am\", age, \"years old\")\n"
      ],
      "metadata": {
        "colab": {
          "base_uri": "https://localhost:8080/"
        },
        "id": "ikpaCexfQDKe",
        "outputId": "e2f3bea8-0556-4cb9-e01b-8651bec4ed5d"
      },
      "execution_count": 2,
      "outputs": [
        {
          "output_type": "stream",
          "name": "stdout",
          "text": [
            "My name is John Doe\n",
            "I am 25 years old\n"
          ]
        }
      ]
    },
    {
      "cell_type": "code",
      "source": [
        "# 3. Write code to print all the pre-defined keywords in Python using the keyword library.\n",
        "\n",
        "help(\"keywords\")"
      ],
      "metadata": {
        "colab": {
          "base_uri": "https://localhost:8080/"
        },
        "id": "ESnTU-VIQdD5",
        "outputId": "f08ad3cd-2edd-4ecf-9508-4d88f0c4701e"
      },
      "execution_count": 3,
      "outputs": [
        {
          "output_type": "stream",
          "name": "stdout",
          "text": [
            "\n",
            "Here is a list of the Python keywords.  Enter any keyword to get more help.\n",
            "\n",
            "False               class               from                or\n",
            "None                continue            global              pass\n",
            "True                def                 if                  raise\n",
            "and                 del                 import              return\n",
            "as                  elif                in                  try\n",
            "assert              else                is                  while\n",
            "async               except              lambda              with\n",
            "await               finally             nonlocal            yield\n",
            "break               for                 not                 \n",
            "\n"
          ]
        }
      ]
    },
    {
      "cell_type": "code",
      "source": [
        "# 4. Write a program that checks if a given word is a Python keyword.\n",
        "\n",
        "word = input(\"Enter a word to check if it's a Python keyword: \")\n",
        "\n",
        "if keyword.iskeyword(word):\n",
        "    print(f\"'{word}' is a Python keyword.\")\n",
        "else:\n",
        "    print(f\"'{word}' is NOT a Python keyword.\")\n"
      ],
      "metadata": {
        "id": "-PNAK1tzQ7qs"
      },
      "execution_count": null,
      "outputs": []
    },
    {
      "cell_type": "code",
      "source": [
        "# 5. Create a list and tuple in Python, and demonstrate how attempting to change an element works differently for each.\n",
        "\n",
        "my_list = [10, 20, 30]\n",
        "print(\"Original List:\", my_list)\n",
        "\n",
        "\n",
        "my_list[1] = 99\n",
        "print(\"Modified List:\", my_list)\n",
        "\n",
        "\n",
        "my_tuple = (10, 20, 30)\n",
        "print(\"Original Tuple:\", my_tuple)\n",
        "\n",
        "\n",
        "try:\n",
        "    my_tuple[1] = 99\n",
        "except TypeError as e:\n",
        "    print(\"Error when modifying tuple:\", e)\n"
      ],
      "metadata": {
        "colab": {
          "base_uri": "https://localhost:8080/"
        },
        "id": "AOTSh4jcSlec",
        "outputId": "01d85afe-dd96-4828-9ede-e6ee64238915"
      },
      "execution_count": 7,
      "outputs": [
        {
          "output_type": "stream",
          "name": "stdout",
          "text": [
            "Original List: [10, 20, 30]\n",
            "Modified List: [10, 99, 30]\n",
            "Original Tuple: (10, 20, 30)\n",
            "Error when modifying tuple: 'tuple' object does not support item assignment\n"
          ]
        }
      ]
    },
    {
      "cell_type": "code",
      "source": [
        "# 6.  Write a function to demonstrate the behavior of mutable and immutable arguments.\n",
        "\n",
        "def modify_arguments(num, my_list):\n",
        "    # Try modifying the immutable argument (int)\n",
        "    num += 10\n",
        "    print(\"Inside function (num):\", num)\n",
        "\n",
        "    # Try modifying the mutable argument (list)\n",
        "    my_list.append(100)\n",
        "    print(\"Inside function (list):\", my_list)\n",
        "\n",
        "\n",
        "# Initial values\n",
        "number = 50\n",
        "numbers_list = [1, 2, 3]\n",
        "\n",
        "# Call the function\n",
        "modify_arguments(number, numbers_list)\n",
        "\n",
        "# Check values after the function call\n",
        "print(\"Outside function (num):\", number)          # Immutable\n",
        "print(\"Outside function (list):\", numbers_list)   # Mutable\n"
      ],
      "metadata": {
        "colab": {
          "base_uri": "https://localhost:8080/"
        },
        "id": "88s0xuxhTJ-i",
        "outputId": "36a5a31f-efec-4521-cbdf-ac1b565e0e66"
      },
      "execution_count": 8,
      "outputs": [
        {
          "output_type": "stream",
          "name": "stdout",
          "text": [
            "Inside function (num): 60\n",
            "Inside function (list): [1, 2, 3, 100]\n",
            "Outside function (num): 50\n",
            "Outside function (list): [1, 2, 3, 100]\n"
          ]
        }
      ]
    },
    {
      "cell_type": "code",
      "source": [
        "#  7. Write a program that performs basic arithmetic operations on two user-input numbers.\n",
        "\n",
        "# Get user input and convert to float\n",
        "num1 = float(input(\"Enter the first number: \"))\n",
        "num2 = float(input(\"Enter the second number: \"))\n",
        "\n",
        "# Perform arithmetic operations\n",
        "addition = num1 + num2\n",
        "subtraction = num1 - num2\n",
        "multiplication = num1 * num2\n",
        "\n",
        "# Check for division by zero\n",
        "if num2 != 0:\n",
        "    division = num1 / num2\n",
        "else:\n",
        "    division = \"Undefined (cannot divide by zero)\"\n",
        "\n",
        "# Display the results\n",
        "print(\"\\n--- Results ---\")\n",
        "print(f\"Addition: {num1} + {num2} = {addition}\")\n",
        "print(f\"Subtraction: {num1} - {num2} = {subtraction}\")\n",
        "print(f\"Multiplication: {num1} * {num2} = {multiplication}\")\n",
        "print(f\"Division: {num1} / {num2} = {division}\")\n"
      ],
      "metadata": {
        "colab": {
          "base_uri": "https://localhost:8080/"
        },
        "id": "_aqGl-FWTiBs",
        "outputId": "1a094ccc-05ef-4e92-c03f-8c6bcd1c0f55"
      },
      "execution_count": 9,
      "outputs": [
        {
          "output_type": "stream",
          "name": "stdout",
          "text": [
            "Enter the first number: 40\n",
            "Enter the second number: 89\n",
            "\n",
            "--- Results ---\n",
            "Addition: 40.0 + 89.0 = 129.0\n",
            "Subtraction: 40.0 - 89.0 = -49.0\n",
            "Multiplication: 40.0 * 89.0 = 3560.0\n",
            "Division: 40.0 / 89.0 = 0.449438202247191\n"
          ]
        }
      ]
    },
    {
      "cell_type": "code",
      "source": [
        "# 8. Write a program to demonstrate the use of logical operators.\n",
        "\n",
        "# Get user input for two numbers\n",
        "num1 = int(input(\"Enter the first number: \"))\n",
        "num2 = int(input(\"Enter the second number: \"))\n",
        "\n",
        "# Use logical operators to check conditions\n",
        "print(\"\\n--- Logical Operations ---\")\n",
        "\n",
        "# Logical AND\n",
        "if num1 > 0 and num2 > 0:\n",
        "    print(\"Both numbers are positive.\")\n",
        "else:\n",
        "    print(\"At least one number is non-positive.\")\n",
        "\n",
        "# Logical OR\n",
        "if num1 == 0 or num2 == 0:\n",
        "    print(\"At least one number is zero.\")\n",
        "else:\n",
        "    print(\"Neither number is zero.\")\n",
        "\n",
        "# Logical NOT\n",
        "if not (num1 == num2):\n",
        "    print(\"The numbers are different.\")\n",
        "else:\n",
        "    print(\"The numbers are equal.\")\n"
      ],
      "metadata": {
        "colab": {
          "base_uri": "https://localhost:8080/"
        },
        "id": "zLNdyyW5T9Vd",
        "outputId": "89d01422-63bb-4f2b-b193-729b799060a7"
      },
      "execution_count": 11,
      "outputs": [
        {
          "output_type": "stream",
          "name": "stdout",
          "text": [
            "Enter the first number: 5\n",
            "Enter the second number: 4\n",
            "\n",
            "--- Logical Operations ---\n",
            "Both numbers are positive.\n",
            "Neither number is zero.\n",
            "The numbers are different.\n"
          ]
        }
      ]
    },
    {
      "cell_type": "code",
      "source": [
        "# 9. Write a Python program to convert user input from string to integer, float, and boolean types.\n",
        "\n",
        "# Get user input (which is always a string by default)\n",
        "user_input = input(\"Enter a value: \")\n",
        "\n",
        "# Convert to integer\n",
        "try:\n",
        "    int_value = int(user_input)\n",
        "    print(f\"Integer value: {int_value}\")\n",
        "except ValueError:\n",
        "    print(\"Invalid input for integer conversion.\")\n",
        "\n",
        "# Convert to float\n",
        "try:\n",
        "    float_value = float(user_input)\n",
        "    print(f\"Float value: {float_value}\")\n",
        "except ValueError:\n",
        "    print(\"Invalid input for float conversion.\")\n",
        "\n",
        "# Convert to boolean\n",
        "# For boolean, anything other than '0', 'false', or an empty string is considered True.\n",
        "if user_input.lower() in ['0', 'false', '']:\n",
        "    bool_value = False\n",
        "else:\n",
        "    bool_value = True\n",
        "print(f\"Boolean value: {bool_value}\")\n"
      ],
      "metadata": {
        "colab": {
          "base_uri": "https://localhost:8080/"
        },
        "id": "UHhOEy2BUZLt",
        "outputId": "79dca9e7-dfdf-439b-e93a-6bc9fdd2554a"
      },
      "execution_count": 12,
      "outputs": [
        {
          "output_type": "stream",
          "name": "stdout",
          "text": [
            "Enter a value: 10\n",
            "Integer value: 10\n",
            "Float value: 10.0\n",
            "Boolean value: True\n"
          ]
        }
      ]
    },
    {
      "cell_type": "code",
      "source": [
        "#  10.  Write code to demonstrate type casting with list elements.\n",
        "\n",
        "# Original list with string numbers\n",
        "str_list = [\"10\", \"20\", \"30\", \"40\"]\n",
        "\n",
        "print(\"Original list (strings):\", str_list)\n",
        "\n",
        "# Convert all string elements to integers using list comprehension\n",
        "int_list = [int(x) for x in str_list]\n",
        "\n",
        "print(\"After casting to integers:\", int_list)\n",
        "\n",
        "# Convert integers back to strings\n",
        "str_list_again = [str(x) for x in int_list]\n",
        "\n",
        "print(\"After casting back to strings:\", str_list_again)\n",
        "\n",
        "# Convert integers to floats\n",
        "float_list = [float(x) for x in int_list]\n",
        "\n",
        "print(\"After casting to floats:\", float_list)\n"
      ],
      "metadata": {
        "colab": {
          "base_uri": "https://localhost:8080/"
        },
        "id": "HCDCoMDnUqh7",
        "outputId": "13fecb81-bd93-40f5-8c5f-cc2127355e52"
      },
      "execution_count": 13,
      "outputs": [
        {
          "output_type": "stream",
          "name": "stdout",
          "text": [
            "Original list (strings): ['10', '20', '30', '40']\n",
            "After casting to integers: [10, 20, 30, 40]\n",
            "After casting back to strings: ['10', '20', '30', '40']\n",
            "After casting to floats: [10.0, 20.0, 30.0, 40.0]\n"
          ]
        }
      ]
    },
    {
      "cell_type": "code",
      "source": [
        "#  11. Write a program that checks if a number is positive, negative, or zero.\n",
        "\n",
        "# Get user input and convert to float (to handle decimals)\n",
        "num = float(input(\"Enter a number: \"))\n",
        "\n",
        "# Check if the number is positive, negative, or zero\n",
        "if num > 0:\n",
        "    print(\"The number is positive.\")\n",
        "elif num < 0:\n",
        "    print(\"The number is negative.\")\n",
        "else:\n",
        "    print(\"The number is zero.\")\n"
      ],
      "metadata": {
        "colab": {
          "base_uri": "https://localhost:8080/"
        },
        "id": "G9IhV0WdU2Y2",
        "outputId": "9f80d2e1-1f74-459e-c3e7-dffd136e564c"
      },
      "execution_count": 14,
      "outputs": [
        {
          "output_type": "stream",
          "name": "stdout",
          "text": [
            "Enter a number: 7\n",
            "The number is positive.\n"
          ]
        }
      ]
    },
    {
      "cell_type": "code",
      "source": [
        "#  12.  Write a for loop to print numbers from 1 to 10.\n",
        "\n",
        "for i in range(1, 11):\n",
        "    print(i)\n"
      ],
      "metadata": {
        "colab": {
          "base_uri": "https://localhost:8080/"
        },
        "id": "szvEDzZBVUEa",
        "outputId": "8205ff3d-ccb1-431d-f9ec-c39afa450b55"
      },
      "execution_count": 15,
      "outputs": [
        {
          "output_type": "stream",
          "name": "stdout",
          "text": [
            "1\n",
            "2\n",
            "3\n",
            "4\n",
            "5\n",
            "6\n",
            "7\n",
            "8\n",
            "9\n",
            "10\n"
          ]
        }
      ]
    },
    {
      "cell_type": "code",
      "source": [
        "#  13. Write a Python program to find the sum of all even numbers between 1 and 50.\n",
        "\n",
        "# Initialize the sum to 0\n",
        "sum_of_even_numbers = 0\n",
        "\n",
        "# Loop through numbers from 1 to 50\n",
        "for i in range(1, 51):\n",
        "    # Check if the number is even\n",
        "    if i % 2 == 0:\n",
        "        sum_of_even_numbers += i\n",
        "\n",
        "# Print the result\n",
        "print(\"Sum of all even numbers between 1 and 50:\", sum_of_even_numbers)\n"
      ],
      "metadata": {
        "colab": {
          "base_uri": "https://localhost:8080/"
        },
        "id": "-7EIDM7rVgk3",
        "outputId": "899d75ec-653c-46de-abc8-2b764e9e9047"
      },
      "execution_count": 16,
      "outputs": [
        {
          "output_type": "stream",
          "name": "stdout",
          "text": [
            "Sum of all even numbers between 1 and 50: 650\n"
          ]
        }
      ]
    },
    {
      "cell_type": "code",
      "source": [
        "#  14. Write a program to reverse a string using a while loop.\n",
        "\n",
        "# Get input from the user\n",
        "original_str = input(\"Enter a string to reverse: \")\n",
        "\n",
        "# Initialize an empty string for the reversed result\n",
        "reversed_str = \"\"\n",
        "\n",
        "# Start from the last character index\n",
        "index = len(original_str) - 1\n",
        "\n",
        "# Loop until index is less than 0\n",
        "while index >= 0:\n",
        "    reversed_str += original_str[index]  # Append character at current index\n",
        "    index -= 1  # Move to the previous character\n",
        "\n",
        "# Print the reversed string\n",
        "print(\"Reversed string:\", reversed_str)\n"
      ],
      "metadata": {
        "colab": {
          "base_uri": "https://localhost:8080/"
        },
        "id": "keUFUARtVshs",
        "outputId": "1b3596c0-6954-487b-8c10-6a31179be027"
      },
      "execution_count": 17,
      "outputs": [
        {
          "output_type": "stream",
          "name": "stdout",
          "text": [
            "Enter a string to reverse: \"King\"\n",
            "Reversed string: \"gniK\"\n"
          ]
        }
      ]
    },
    {
      "cell_type": "code",
      "source": [
        "# 15. Write a Python program to calculate the factorial of a number provided by the user using a while loop\n",
        "\n",
        "\n",
        "# Get user input and convert to integer\n",
        "num = int(input(\"Enter a non-negative integer: \"))\n",
        "\n",
        "# Initialize factorial result to 1 (factorial of 0 and 1 is 1)\n",
        "factorial = 1\n",
        "\n",
        "# Initialize a counter\n",
        "i = 1\n",
        "\n",
        "# Calculate factorial using while loop\n",
        "while i <= num:\n",
        "    factorial *= i\n",
        "    i += 1\n",
        "\n",
        "# Print the factorial result\n",
        "print(f\"Factorial of {num} is {factorial}\")\n"
      ],
      "metadata": {
        "colab": {
          "base_uri": "https://localhost:8080/"
        },
        "id": "lpB7JrhCWA7n",
        "outputId": "3e1f9b30-f769-44cf-dc0c-020284702a43"
      },
      "execution_count": 19,
      "outputs": [
        {
          "output_type": "stream",
          "name": "stdout",
          "text": [
            "Enter a non-negative integer: 4\n",
            "Factorial of 4 is 24\n"
          ]
        }
      ]
    }
  ]
}